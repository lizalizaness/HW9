{
 "cells": [
  {
   "cell_type": "code",
   "execution_count": 25,
   "id": "e63bb768-64c1-4f7d-8f02-289b248fd55e",
   "metadata": {
    "tags": []
   },
   "outputs": [
    {
     "name": "stdout",
     "output_type": "stream",
     "text": [
      "Dumbo is a elephant\n",
      "Balto is a dog\n",
      "Kaa is a python\n",
      "Finn is a fox\n",
      "Simba is a lion\n",
      "Lolly is a anteater\n",
      "Gav is a cat\n",
      "Marty is a zebra\n"
     ]
    }
   ],
   "source": [
    "class Animal:\n",
    "    def __init__(self, genus, name, year_of_birth,is_predator,colour):\n",
    "        self.genus = genus\n",
    "        self.name = name\n",
    "        self.year_of_birth = year_of_birth\n",
    "        self.is_predator = is_predator\n",
    "        self.colour = colour\n",
    "\n",
    "    def get_name(self, name):\n",
    "        return name - self.name\n",
    "\n",
    "    def get_age(self, year):\n",
    "        return year - self.year_of_birth\n",
    "\n",
    "    def get_info(self):\n",
    "        return f\"{self.name} is a {self.genus}\"\n",
    "\n",
    "    def __str__(self):\n",
    "        return f\"{self.name} ({self.genus})\"\n",
    "    \n",
    "    def get_class(self, class_animal):\n",
    "        return f\"{self.name} is a {self.class_animal}\"\n",
    "    \n",
    "    def get_class(self, colour):\n",
    "        return f\"{self.name} is a {self.class_animal}\"\n",
    "\n",
    "animals = [\n",
    "    Animal(\"elephant\", \"Dumbo\", 2005, False, \"grey\" ),\n",
    "    Animal(\"dog\", \"Balto\", 2010, True, \"brown\"),\n",
    "    Animal(\"python\", \"Kaa\", 2012, True, \"green\"),\n",
    "    Animal(\"fox\", \"Finn\", 2015, True, \"ginger\"),\n",
    "    Animal(\"lion\", \"Simba\", 2022, True,\"ginger\"),\n",
    "    Animal(\"anteater\", \"Lolly\", 2012, True, \"grey\"),\n",
    "    Animal(\"cat\", \"Gav\", 1976, True, \"ginger\"),\n",
    "    Animal(\"zebra\", \"Marty\", 2002, False, \"white and black\")]\n",
    "\n",
    "for animal in animals:\n",
    "    print(animal.get_info())\n"
   ]
  },
  {
   "cell_type": "code",
   "execution_count": 26,
   "id": "a4f2f377-cf8c-471d-8e15-c71a999768ed",
   "metadata": {
    "tags": []
   },
   "outputs": [
    {
     "name": "stdout",
     "output_type": "stream",
     "text": [
      "Dumbo's age in 2024: 19,\n",
      "It's colour is grey\n",
      "Balto's age in 2024: 14,\n",
      "It's colour is brown\n",
      "Kaa's age in 2024: 12,\n",
      "It's colour is green\n",
      "Finn's age in 2024: 9,\n",
      "It's colour is ginger\n",
      "Simba's age in 2024: 2,\n",
      "It's colour is ginger\n",
      "Lolly's age in 2024: 12,\n",
      "It's colour is grey\n",
      "Gav's age in 2024: 48,\n",
      "It's colour is ginger\n",
      "Marty's age in 2024: 22,\n",
      "It's colour is white and black\n"
     ]
    }
   ],
   "source": [
    "for animal in animals:\n",
    "    print(f\"{animal.name}'s age in 2024: {animal.get_age(2024)},\\nIt's colour is {animal.colour}\")"
   ]
  },
  {
   "cell_type": "code",
   "execution_count": 27,
   "id": "58a08341-193d-486e-b873-6569771baf83",
   "metadata": {
    "tags": []
   },
   "outputs": [
    {
     "name": "stdout",
     "output_type": "stream",
     "text": [
      "Dumbo is not a predator. Actually, we might be friends.\n",
      "Balto is a predator, be careful!\n",
      "Kaa is a predator, be careful!\n",
      "Finn is a predator, be careful!\n",
      "Simba is a predator, be careful!\n",
      "Lolly is a predator, be careful!\n",
      "Gav is a predator, be careful!\n",
      "Marty is not a predator. Actually, we might be friends.\n"
     ]
    }
   ],
   "source": [
    "for animal in animals:\n",
    "    if animal.is_predator:\n",
    "        print(f\"{animal.name} is a predator, be careful!\")\n",
    "    else:\n",
    "        print(f\"{animal.name} is not a predator. Actually, we might be friends.\")"
   ]
  },
  {
   "cell_type": "code",
   "execution_count": 30,
   "id": "1bed09da-490e-4408-b9f8-64cc22906535",
   "metadata": {
    "tags": []
   },
   "outputs": [
    {
     "name": "stdout",
     "output_type": "stream",
     "text": [
      "The oldest animal is Gav, a cat, its age is 48.\n"
     ]
    }
   ],
   "source": [
    "def find_oldest_animal(animals):\n",
    "    oldest_animal = min(animals, key=lambda animal: animal.year_of_birth)\n",
    "    age = oldest_animal.get_age(2024)\n",
    "    return oldest_animal.name, oldest_animal.genus, age\n",
    "\n",
    "oldest_name, oldest_genus, oldest_age = find_oldest_animal(animals)\n",
    "print(f\"The oldest animal is {oldest_name}, a {oldest_genus}, its age is {oldest_age}.\")"
   ]
  },
  {
   "cell_type": "code",
   "execution_count": 40,
   "id": "a71accfc-ae4d-4558-b2c5-0bb5b2ab6e2b",
   "metadata": {
    "tags": []
   },
   "outputs": [],
   "source": [
    "def write_animals_to_file(animals, textfile):\n",
    "    with open(textfile, 'w') as file:\n",
    "        for animal in animals:\n",
    "            file.write(f\"{animal.name}, {animal.genus}\\n\")\n",
    "write_animals_to_file(animals, 'animals.txt')"
   ]
  },
  {
   "cell_type": "code",
   "execution_count": null,
   "id": "fd7f04bf-2d1e-4cee-8183-7274204f0b10",
   "metadata": {},
   "outputs": [],
   "source": []
  },
  {
   "cell_type": "code",
   "execution_count": null,
   "id": "40c61485-020f-41e3-b7fb-b00829044a72",
   "metadata": {},
   "outputs": [],
   "source": []
  }
 ],
 "metadata": {
  "kernelspec": {
   "display_name": "Python 3 (ipykernel)",
   "language": "python",
   "name": "python3"
  },
  "language_info": {
   "codemirror_mode": {
    "name": "ipython",
    "version": 3
   },
   "file_extension": ".py",
   "mimetype": "text/x-python",
   "name": "python",
   "nbconvert_exporter": "python",
   "pygments_lexer": "ipython3",
   "version": "3.10.9"
  }
 },
 "nbformat": 4,
 "nbformat_minor": 5
}
